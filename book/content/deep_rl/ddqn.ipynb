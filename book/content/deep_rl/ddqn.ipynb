{
 "cells": [
  {
   "cell_type": "markdown",
   "metadata": {
    "collapsed": true,
    "pycharm": {
     "name": "#%% md\n"
    }
   },
   "source": [
    "# Double Deep Q-Learning\n",
    "\n",
    "> The original paper introducing Double Deep Q-Learning, was published by authors from Google DeepMind back in 2016. Its title: \"Deep Reinforcement Learning with Double Q-Learning\". In this section, we explain how techniques used in this paper improve upon the standard Deep Q-Learning agent. We also show how one can implement the algorithm, and how to apply it to a problem.\n",
    "\n",
    "<div class=\"alert alert-block alert-danger\">\n",
    "<b>TODO:</b> Build upon knowledge about Deep Q-Learning\n",
    "</div>"
   ]
  }
 ],
 "metadata": {
  "kernelspec": {
   "display_name": "Python 3",
   "language": "python",
   "name": "python3"
  },
  "language_info": {
   "codemirror_mode": {
    "name": "ipython",
    "version": 2
   },
   "file_extension": ".py",
   "mimetype": "text/x-python",
   "name": "python",
   "nbconvert_exporter": "python",
   "pygments_lexer": "ipython2",
   "version": "2.7.6"
  }
 },
 "nbformat": 4,
 "nbformat_minor": 0
}